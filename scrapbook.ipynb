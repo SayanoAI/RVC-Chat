{
 "cells": [
  {
   "cell_type": "code",
   "execution_count": 1,
   "metadata": {},
   "outputs": [],
   "source": [
    "from webui.functions import FUNCTION_LIST\n",
    "from webui.chat import Character\n",
    "\n",
    "# char = Character(\"./models/Characters/Assistant.json\")\n",
    "\n"
   ]
  },
  {
   "cell_type": "code",
   "execution_count": 2,
   "metadata": {},
   "outputs": [
    {
     "name": "stdout",
     "output_type": "stream",
     "text": [
      "\n",
      "Please construct a systematic plan to generate an optimal response to the user instruction, utilizing a set of provided tools. Each plan will correspond to an evidence value, which will be the output of one of the available functions given an input string\n",
      "that could be the user's question, one or more prior evidence values, or a combination of both.\n",
      "\n",
      "Here are the only tools available to be called:\n",
      "generate_prompt(subject,description,emotion,environment,negative,orientation,seed,steps,cfg,randomize,scale,style): Tool that enables the user to generate an image or picture based on a description\n",
      "search_youtube(query): Tool that enables the user to search youtube for songs\n",
      "download_youtube(url): Tool that enables the user to download a youtube song given a url\n",
      "search_song(song_name): Tool that enables the user to search for a song in the current directory\n",
      "split_vocals(song_name): Tool that lets the user isolate the vocals from a song\n",
      "convert_vocals(voice_model,vocals): Tool that enables the user to use AI to sing the song\n",
      "merge_audio(input_audio1,input_audio2): Tool that enables the user to merge two audio data\n",
      "\n",
      "The output should be in format:\n",
      "Plan: [first action to take based on input question]\n",
      ":evidence0: = [function to call with input parameter]\n",
      "Plan: [next action to take, based on result of :evidence0:]\n",
      ":evidence1: = [next function to call and input parameter, which may include reference to previous evidence, e.g. \"Given context :evidence0\"]\n",
      "...\n",
      "Answer: [:evidence[n]: containing the final answer.]\n",
      "\n",
      "Question: Can you sing despacito?\n",
      "\n"
     ]
    }
   ],
   "source": [
    "functions = \"\\n\".join([f\"{data.function}({','.join(data.arguments)}): {data.documents}\" for data in FUNCTION_LIST])\n",
    "\n",
    "prompt = \"\"\"\n",
    "Please construct a systematic plan to generate an optimal response to the user instruction, utilizing a set of provided tools. Each plan will correspond to an evidence value, which will be the output of one of the available functions given an input string\n",
    "that could be the user's question, one or more prior evidence values, or a combination of both.\n",
    "\n",
    "Here are the only tools available to be called:\n",
    "{functions}\n",
    "\n",
    "The output should be in format:\n",
    "Plan: [first action to take based on input question]\n",
    ":evidence0: = [function to call with input parameter]\n",
    "Plan: [next action to take, based on result of :evidence0:]\n",
    ":evidence1: = [next function to call and input parameter, which may include reference to previous evidence, e.g. \"Given context :evidence0\"]\n",
    "...\n",
    "Answer: [:evidence[n]: containing the final answer.]\n",
    "\n",
    "Question: Can you sing despacito?\n",
    "\"\"\"\n",
    "prompt = prompt.replace(\"{functions}\",functions)\n",
    "print(prompt)\n"
   ]
  }
 ],
 "metadata": {
  "kernelspec": {
   "display_name": "RVC-Chat",
   "language": "python",
   "name": "python3"
  },
  "language_info": {
   "codemirror_mode": {
    "name": "ipython",
    "version": 3
   },
   "file_extension": ".py",
   "mimetype": "text/x-python",
   "name": "python",
   "nbconvert_exporter": "python",
   "pygments_lexer": "ipython3",
   "version": "3.9.18"
  },
  "orig_nbformat": 4
 },
 "nbformat": 4,
 "nbformat_minor": 2
}
