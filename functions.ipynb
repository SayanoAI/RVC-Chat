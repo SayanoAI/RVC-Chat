{
 "cells": [
  {
   "cell_type": "code",
   "execution_count": null,
   "metadata": {},
   "outputs": [],
   "source": [
    "import json\n",
    "from webui.utils import ObjectNamespace\n",
    "from webui.chat import Character\n",
    "import sounddevice as sd\n",
    "from llama_cpp import Llama, LlamaGrammar\n",
    "\n",
    "def chat(char,prompt=\"Continue the story without me\"):\n",
    "    print(f\"{char.user}: {prompt}\")\n",
    "    full_response = \"\"\n",
    "    for response in char.generate_text(prompt):\n",
    "        full_response += response\n",
    "    audio = char.text_to_speech(full_response)\n",
    "    if audio: sd.play(*audio)            \n",
    "    char.messages.append({\"role\": char.user, \"content\": prompt}) #add user prompt to history\n",
    "    char.messages.append({\n",
    "        \"role\": char.name,\n",
    "        \"content\": full_response,\n",
    "        \"audio\": audio\n",
    "    })\n",
    "    print(f\"{char.name}: {full_response}\")\n",
    "    return full_response\n",
    "\n",
    "def get_function(char, query, threshold=1.):\n",
    "    results = char.ltm.get_query(query=query,include=[\"metadatas\", \"distances\"],type=\"function\",threshold=threshold)\n",
    "    if len(results): # found function\n",
    "        metadata = results[0][\"metadata\"]\n",
    "        return metadata\n",
    "    else: return None\n",
    "\n",
    "def get_args(char, arguments, template, prompt, retries=3):\n",
    "    response = char.LLM(f\"\"\"\n",
    "              <|im_start|>system\n",
    "              Complete these arguments ({arguments}) using this template ({template}) while following the user's request.<|im_end|>\n",
    "              <|im_start|>user\n",
    "              {prompt}<|im_end|>\n",
    "              \"\"\",grammar=grammar,stop=[\"<|im_start|>\",\"<|im_end|>\"])\n",
    "    try:\n",
    "        args = json.loads(response[\"choices\"][0][\"text\"])\n",
    "        if args: args = {k:args[k] for k in args if k in arguments}\n",
    "    except Exception as e:\n",
    "        print(e)\n",
    "        args = get_args(char, arguments, template, prompt, retries-1) if retries>0 else None\n",
    "    return args        \n",
    "\n",
    "grammar = LlamaGrammar.from_file(\"./models/LLM/json.gbnf\")"
   ]
  },
  {
   "cell_type": "code",
   "execution_count": null,
   "metadata": {},
   "outputs": [],
   "source": [
    "\"\"\"\n",
    "This is a demo to showcase function calling\n",
    "\"\"\"\n",
    "character = Character(\n",
    "    character_file=\"./models/Characters/Amaryllis.json\",\n",
    "    model_file=\"./models/LLM/mistral-7b-openorca.Q4_K_M.gguf\",\n",
    "    user=\"Player\"\n",
    ")\n",
    "character.LLM = Llama(\n",
    "    character.model_file,\n",
    "    n_ctx=character.model_data[\"params\"][\"n_ctx\"],\n",
    "    n_gpu_layers=character.model_data[\"params\"][\"n_gpu_layers\"],\n",
    "    verbose=True\n",
    ")\n",
    "character.loaded=True\n",
    "character"
   ]
  },
  {
   "cell_type": "code",
   "execution_count": null,
   "metadata": {},
   "outputs": [],
   "source": [
    "\"\"\"\n",
    "We first define the list of function definitions and put them to a vector database.\n",
    "The description should be potential user prompts that can trigger the function.\n",
    "\n",
    "arguments: list of argument names that the function uses\n",
    "**kwargs: dictionary of [type: data type, description: description of argument, required: whether it is required]\n",
    "\"\"\"\n",
    "import random\n",
    "\n",
    "\n",
    "functions = [\n",
    "    ObjectNamespace(\n",
    "        description = \"Can you please play [song_name] for me?|I would love to hear you sing song_name.|Can you sing [song_name] for me?|Play [song_name], please.\",\n",
    "        function = \"play_song\",\n",
    "        arguments = [\"name\",\"search\"],\n",
    "        name = {\"type\": \"string\", \"description\": \"name of the song\"},\n",
    "        search = {\"type\": \"boolean\", \"description\": \"search for the song if it doesn't exist\"},\n",
    "    ),\n",
    "    ObjectNamespace(\n",
    "        description = \"Get the current weather in a [location]|How's the weather in a [location] in [temperature_unit]?|What's the weather like in [location]?\",\n",
    "        function = \"get_current_weather\",\n",
    "        arguments = [\"location\",\"unit\"],\n",
    "        location = {\"type\": \"string\", \"description\": \"location to check\"},\n",
    "        unit = {\"type\": \"string\", \"enum\": [\"celsius\", \"fahrenheit\"], \"description\": \"temperature unit\"},\n",
    "    ),\n",
    "]\n",
    "\n",
    "# dummy functions\n",
    "def play_song(name,search=False):\n",
    "    if search: print(f\"Searching song on youtube\")\n",
    "    return f\"playing {name}.\"\n",
    "\n",
    "def get_current_weather(location, unit=\"celsius\"):\n",
    "    \"\"\"Get the current weather in a given location\"\"\"\n",
    "\n",
    "    temperature = random.randint(10,30)\n",
    "    if unit==\"fahrenheit\": temperature*=3\n",
    "    forecast = random.choice([\"sunny\", \"windy\"])\n",
    "    \n",
    "    return f\"The temperature in {location} is {temperature} degrees {unit} and {forecast}\"\n",
    "\n",
    "character.ltm.clear()\n",
    "for data in functions:\n",
    "    character.ltm.add_function(**data)"
   ]
  },
  {
   "cell_type": "code",
   "execution_count": 73,
   "metadata": {},
   "outputs": [
    {
     "name": "stdout",
     "output_type": "stream",
     "text": [
      "metadata={'arguments': '[\"name\", \"search\"]', 'function': 'play_song', 'hnsw:space': 'cosine', 'template': '{\"name\": {\"type\": \"string\", \"description\": \"name of the song\"}, \"search\": {\"type\": \"boolean\", \"description\": \"search for the song if it doesn\\'t exist\"}}', 'type': 'function'}\n"
     ]
    },
    {
     "name": "stderr",
     "output_type": "stream",
     "text": [
      "Llama.generate: prefix-match hit\n"
     ]
    },
    {
     "name": "stdout",
     "output_type": "stream",
     "text": [
      "args={'name': 'Despacito', 'search': False}\n",
      "playing Despacito.\n"
     ]
    }
   ],
   "source": [
    "prompt = \"Can you sing despacito for me?\"\n",
    "metadata = get_function(character,prompt,threshold=1.)\n",
    "print(f\"{metadata=}\")\n",
    "if metadata:\n",
    "    args = get_args(character, metadata['arguments'], metadata['template'], prompt)\n",
    "    print(f\"{args=}\")\n",
    "    if args: print(eval(metadata[\"function\"])(**args))"
   ]
  },
  {
   "cell_type": "code",
   "execution_count": 75,
   "metadata": {},
   "outputs": [
    {
     "name": "stdout",
     "output_type": "stream",
     "text": [
      "metadata={'arguments': '[\"location\", \"unit\"]', 'function': 'get_current_weather', 'hnsw:space': 'cosine', 'template': '{\"location\": {\"type\": \"string\", \"description\": \"location to check\"}, \"unit\": {\"type\": \"string\", \"enum\": [\"celsius\", \"fahrenheit\"], \"description\": \"temperature unit\"}}', 'type': 'function'}\n"
     ]
    },
    {
     "name": "stderr",
     "output_type": "stream",
     "text": [
      "Llama.generate: prefix-match hit\n"
     ]
    },
    {
     "name": "stdout",
     "output_type": "stream",
     "text": [
      "args={'location': 'Canada', 'unit': 'fahrenheit'}\n",
      "The temperature in Canada is 66 degrees fahrenheit and windy\n"
     ]
    }
   ],
   "source": [
    "prompt = \"How's the weather in Canada in fahrenheit?\"\n",
    "metadata = get_function(character,prompt,threshold=1.5)\n",
    "print(f\"{metadata=}\")\n",
    "if metadata:\n",
    "    args = get_args(character, metadata['arguments'], metadata['template'], prompt)\n",
    "    print(f\"{args=}\")\n",
    "    if args: print(eval(metadata[\"function\"])(**args))"
   ]
  },
  {
   "cell_type": "code",
   "execution_count": 74,
   "metadata": {},
   "outputs": [],
   "source": [
    "\"\"\"start chatting with the character below\"\"\"\n",
    "\n",
    "while True:\n",
    "    prompt = input(f\"say something to {character.name} or type [exit] to quit\")\n",
    "    if prompt==\"[exit]\": break\n",
    "    chat(character,prompt)"
   ]
  }
 ],
 "metadata": {
  "kernelspec": {
   "display_name": "RVC-Chat",
   "language": "python",
   "name": "python3"
  },
  "language_info": {
   "codemirror_mode": {
    "name": "ipython",
    "version": 3
   },
   "file_extension": ".py",
   "mimetype": "text/x-python",
   "name": "python",
   "nbconvert_exporter": "python",
   "pygments_lexer": "ipython3",
   "version": "3.8.17"
  },
  "orig_nbformat": 4
 },
 "nbformat": 4,
 "nbformat_minor": 2
}
